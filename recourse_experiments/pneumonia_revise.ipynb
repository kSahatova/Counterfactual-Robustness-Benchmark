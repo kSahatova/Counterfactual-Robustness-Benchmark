{
 "cells": [
  {
   "cell_type": "code",
   "execution_count": 2,
   "metadata": {},
   "outputs": [],
   "source": [
    "from src.recourse_methods.revise import Revise"
   ]
  },
  {
   "cell_type": "code",
   "execution_count": 4,
   "metadata": {},
   "outputs": [],
   "source": [
    "import numpy as np\n",
    "import albumentations  as A\n",
    "\n",
    "import torch\n",
    "from torch.utils.data import DataLoader\n",
    "import matplotlib.pyplot as plt\n",
    "import matplotlib\n",
    "\n",
    "from src.datasets.load_datasets import MedMNISTDataset\n",
    "from src.utils.logger import setup_logger\n",
    "from src.utils.generic_utils import seed_everything\n"
   ]
  },
  {
   "cell_type": "code",
   "execution_count": 5,
   "metadata": {},
   "outputs": [],
   "source": [
    "logger = setup_logger(name='main')\n",
    "seed_everything()"
   ]
  },
  {
   "cell_type": "code",
   "execution_count": null,
   "metadata": {},
   "outputs": [
    {
     "name": "stderr",
     "output_type": "stream",
     "text": [
      "[2025-02-07 12:49:57|INFO] - Pnemounia dataset has been successfully loaded\n"
     ]
    }
   ],
   "source": [
    "# preprocessing\n",
    "download = False\n",
    "BATCH_SIZE = 64\n",
    "img_size = 28\n",
    "\n",
    "data_dir = r\"D:\\PycharmProjects\\Counterfactual-Robustness-Benchmark\\data\"\n",
    "class_encodings = {0: 'normal', 1: 'pneumonia'} \n",
    "\n",
    "data_transform = A.Compose([A.Normalize(mean=0.0, std=1.0)])\n",
    "\n",
    "data_flag = \"pneumoniamnist\"\n",
    "train_dataset = MedMNISTDataset(data_flag, split='train', data_dir=data_dir,\n",
    "                                transform=data_transform, size=img_size, download=download)\n",
    "val_dataset = MedMNISTDataset(data_flag, split='val', data_dir=data_dir,\n",
    "                              transform=data_transform, size=img_size, download=download)\n",
    "test_dataset = MedMNISTDataset(data_flag, split='test', data_dir=data_dir, \n",
    "                               transform=data_transform, size=img_size, download=download)\n",
    "logger.info(\"Pnemounia dataset has been successfully loaded\")"
   ]
  },
  {
   "cell_type": "code",
   "execution_count": 7,
   "metadata": {},
   "outputs": [
    {
     "name": "stdout",
     "output_type": "stream",
     "text": [
      "Number of instances in each class after random undersampling\n",
      "Class 0: 1214 | Class 1: 1734\n"
     ]
    }
   ],
   "source": [
    "from imblearn.under_sampling import RandomUnderSampler\n",
    "\n",
    "rus = RandomUnderSampler(sampling_strategy=0.7, random_state=0)\n",
    "reshaped_images = train_dataset.data.imgs.reshape(train_dataset.data.imgs.shape[0], -1)\n",
    "\n",
    "train_images_res, train_labels_res = rus.fit_resample(reshaped_images, train_dataset.data.labels)\n",
    "print('Number of instances in each class after random undersampling')\n",
    "values, counts = np.unique_counts(train_labels_res)\n",
    "print('Class {}: {} | Class {}: {}'.format(values[0], counts[0], values[1], counts[1]))"
   ]
  },
  {
   "cell_type": "code",
   "execution_count": 8,
   "metadata": {},
   "outputs": [
    {
     "data": {
      "text/plain": [
       "((2948, 1, 28, 28), (2948, 1))"
      ]
     },
     "execution_count": 8,
     "metadata": {},
     "output_type": "execute_result"
    }
   ],
   "source": [
    "# Add a channel dimension to the train set\n",
    "\n",
    "train_images_res = train_images_res.reshape(train_images_res.shape[0], img_size, img_size)\n",
    "train_images_res = np.expand_dims(train_images_res, axis=1)\n",
    "\n",
    "# Expand dimension of the train labels\n",
    "\n",
    "if len(train_labels_res.shape) < 2:\n",
    "    train_labels_res = np.expand_dims(train_labels_res, axis=-1) \n",
    "\n",
    "train_images_res.shape, train_labels_res.shape"
   ]
  },
  {
   "cell_type": "code",
   "execution_count": 9,
   "metadata": {},
   "outputs": [],
   "source": [
    "from torch.utils.data import TensorDataset\n",
    "\n",
    "\n",
    "train_tensor_set = TensorDataset(torch.Tensor(train_images_res), \n",
    "                                 torch.Tensor(train_labels_res))\n",
    "\n",
    "train_loader = DataLoader(dataset=train_tensor_set, batch_size=BATCH_SIZE, shuffle=True)\n",
    "val_loader = DataLoader(dataset=val_dataset, batch_size=BATCH_SIZE, shuffle=True)"
   ]
  },
  {
   "cell_type": "markdown",
   "metadata": {},
   "source": [
    "# Load a classifier and VAE"
   ]
  },
  {
   "cell_type": "code",
   "execution_count": null,
   "metadata": {},
   "outputs": [],
   "source": []
  }
 ],
 "metadata": {
  "kernelspec": {
   "display_name": "venv",
   "language": "python",
   "name": "python3"
  },
  "language_info": {
   "codemirror_mode": {
    "name": "ipython",
    "version": 3
   },
   "file_extension": ".py",
   "mimetype": "text/x-python",
   "name": "python",
   "nbconvert_exporter": "python",
   "pygments_lexer": "ipython3",
   "version": "3.11.7"
  }
 },
 "nbformat": 4,
 "nbformat_minor": 2
}
